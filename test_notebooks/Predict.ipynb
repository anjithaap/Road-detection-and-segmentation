{
 "cells": [
  {
   "cell_type": "code",
   "execution_count": null,
   "metadata": {
    "id": "FQEtkpWTrwFl"
   },
   "outputs": [],
   "source": [
    "!rm -rf Dataset Trained_Model                   # Remove existing directory\n",
    "!pip install -U gdown --pre >/dev/null          # Install gdown to download file from GDrive\n",
    "!gdown 1-4Z9DcqgR2IOqiqd27Lwlc_GYtVPwoq0        # Download FCN32 Model\n",
    "!gdown 1-Diom_tj1ti3WnB2OPzRB65-gYm3kzBu        # Download FCN8 Model\n",
    "!gdown 1wqAayBkXBnLfi_4bwCYkIRZCVBTdlFMH        # Download U-Net Model\n",
    "!gdown 1u4WJLjYrbZHwdvFOHQXJqDTtco6F5hJ-        # Download dataset from GDrive by file ID\n",
    "!unzip -q Dataset.zip; rm Dataset.zip           # Extract the dataset zip file"
   ]
  },
  {
   "cell_type": "code",
   "execution_count": null,
   "metadata": {},
   "outputs": [],
   "source": [
    "import os\n",
    "os.environ['TF_CPP_MIN_LOG_LEVEL'] = '3' \n",
    "import tensorflow as tf\n",
    "\n",
    "resolver = tf.distribute.cluster_resolver.TPUClusterResolver.connect()\n",
    "tf.config.experimental_connect_to_cluster(resolver)\n",
    "tf.tpu.experimental.initialize_tpu_system(resolver)\n",
    "strategy = tf.distribute.experimental.TPUStrategy(resolver)"
   ]
  },
  {
   "cell_type": "code",
   "execution_count": null,
   "metadata": {
    "id": "E_EUagX-r48g"
   },
   "outputs": [],
   "source": [
    "from tensorflow.keras.models import load_model\n",
    "from tensorflow.keras import backend as K\n",
    "import os\n",
    "import numpy as np\n",
    "from random import sample\n",
    "from skimage.io import imread\n",
    "from matplotlib import pyplot as plt\n",
    "import cv2\n",
    "from sklearn.model_selection import train_test_split\n",
    "\n",
    "\n",
    "\n",
    "def iou_coef(y_true, y_pred, smooth=1):\n",
    "    intersection = K.sum(K.abs(y_true * y_pred), axis=[1,2,3])\n",
    "    union = K.sum(y_true,[1,2,3])+K.sum(y_pred,[1,2,3])-intersection\n",
    "    iou = K.mean((intersection + smooth) / (union + smooth), axis=0)\n",
    "    return iou\n",
    "\n",
    "def dice_coef(y_true, y_pred, smooth = 1):\n",
    "    y_true_f = K.flatten(y_true)\n",
    "    y_pred_f = K.flatten(y_pred)\n",
    "    intersection = K.sum(y_true_f * y_pred_f)\n",
    "    return (2. * intersection + smooth) / (K.sum(y_true_f) + K.sum(y_pred_f) + smooth)\n",
    "\n",
    "def soft_dice_loss(y_true, y_pred):\n",
    "    return 1-dice_coef(y_true, y_pred)\n",
    "\n",
    "\n",
    "\n",
    "IMAGES_PATH = 'Dataset/Images/'\n",
    "MASKS_PATH  = 'Dataset/Masks/'\n",
    "TEST_PATH   = 'Dataset/Test_Images/'\n",
    "\n",
    "N_IMAGES = 500\n",
    "\n",
    "# Imread each image and save to an array\n",
    "\n",
    "sat_imgs = os.listdir(IMAGES_PATH)\n",
    "msk_imgs = os.listdir(MASKS_PATH)\n",
    "sat_imgs.sort(), msk_imgs.sort()\n",
    "\n",
    "images = []\n",
    "for image in sat_imgs[:N_IMAGES]:\n",
    "    data = imread(IMAGES_PATH + image)\n",
    "    images.append(data)\n",
    "\n",
    "masks = []\n",
    "for mask in msk_imgs[:N_IMAGES]:\n",
    "    data = imread(MASKS_PATH + mask)\n",
    "    data = cv2.cvtColor(data, cv2.COLOR_BGR2GRAY)\n",
    "    data = np.expand_dims(data, axis=-1)\n",
    "    masks.append(data)\n",
    "\n",
    "images = np.stack(images)\n",
    "masks = np.stack(masks) / 255\n",
    "\n",
    "train_images, test_images, train_masks, test_masks = train_test_split(images, masks, test_size=0.3, random_state=2)"
   ]
  },
  {
   "cell_type": "code",
   "execution_count": null,
   "metadata": {},
   "outputs": [],
   "source": [
    "with strategy.scope():\n",
    "    model32 = load_model(\"FCNN-32.h5\", custom_objects={'soft_dice_loss': soft_dice_loss, 'iou_coef': iou_coef})\n",
    "    model8 = load_model(\"Model-FCN-8.h5\", custom_objects={'soft_dice_loss': soft_dice_loss, 'iou_coef': iou_coef})\n",
    "    model_unet = load_model(\"u-net.h5\", custom_objects={'soft_dice_loss': soft_dice_loss, 'iou_coef': iou_coef})"
   ]
  },
  {
   "cell_type": "code",
   "execution_count": null,
   "metadata": {
    "id": "ykzkQ1mHtMtc"
   },
   "outputs": [],
   "source": [
    "pred_images = sample(os.listdir(IMAGES_PATH), 4)\n",
    "pred_masks  = []\n",
    "for mask_name in pred_images:\n",
    "    mask_name = mask_name.replace('_sat.jpg', '_mask.png')\n",
    "    pred_masks.append(mask_name)"
   ]
  },
  {
   "cell_type": "code",
   "execution_count": null,
   "metadata": {
    "id": "gyALZHb82j0m"
   },
   "outputs": [],
   "source": [
    "f = plt.figure(figsize = (15, 12), constrained_layout=True)\n",
    "gs = f.add_gridspec(5, 6)\n",
    "titles = ['Input Image', 'Ground Truth', 'Predicted Image']\n",
    "\n",
    "for i in range(0,4):\n",
    "    data = [imread(f'Dataset/Images/{pred_images[i]}')]\n",
    "    input_img = imread(f'Dataset/Images/{pred_images[i]}')\n",
    "    mask_img = imread(f'Dataset/Masks/{pred_masks[i]}')\n",
    "    test_data = np.asarray([input_img])\n",
    "    output = model32.predict(test_data, verbose=0)[0][:,:,0]\n",
    "    final_out = input_img\n",
    "    for xi in range(len(output)):\n",
    "        for yi in range(len(output[xi])):\n",
    "            if output[xi][yi] > 0.1:\n",
    "                final_out[xi][yi] = [255, 255, 0]\n",
    "    data += [mask_img, final_out]\n",
    "    for j in range(0,3):  \n",
    "        f.add_subplot(gs[i, j])\n",
    "        plt.imshow(data[j])\n",
    "        plt.axis('off')\n",
    "        if i == 0:\n",
    "            plt.title(titles[j])\n",
    "plt.show()"
   ]
  },
  {
   "cell_type": "code",
   "execution_count": null,
   "metadata": {
    "id": "FYCts1hlx9WA"
   },
   "outputs": [],
   "source": [
    "f = plt.figure(figsize = (15, 12), constrained_layout=True)\n",
    "gs = f.add_gridspec(5, 6)\n",
    "titles = ['Input Image', 'Ground Truth', 'Predicted Image']\n",
    "\n",
    "for i in range(0,4):\n",
    "    data = [imread(f'Dataset/Images/{pred_images[i]}')]\n",
    "    input_img = imread(f'Dataset/Images/{pred_images[i]}')\n",
    "    mask_img = imread(f'Dataset/Masks/{pred_masks[i]}')\n",
    "    test_data = np.asarray([input_img])\n",
    "    output = model8.predict(test_data, verbose=0)[0][:,:,0]\n",
    "    final_out = input_img\n",
    "    for xi in range(len(output)):\n",
    "        for yi in range(len(output[xi])):\n",
    "            if output[xi][yi] > 0.1:\n",
    "                final_out[xi][yi] = [255, 255, 0]\n",
    "    data += [mask_img, final_out]\n",
    "    for j in range(0,3):  \n",
    "        f.add_subplot(gs[i, j])\n",
    "        plt.imshow(data[j])\n",
    "        plt.axis('off')\n",
    "        if i == 0:\n",
    "            plt.title(titles[j])\n",
    "plt.show()"
   ]
  },
  {
   "cell_type": "code",
   "execution_count": null,
   "metadata": {},
   "outputs": [],
   "source": [
    "f = plt.figure(figsize = (15, 12), constrained_layout=True)\n",
    "gs = f.add_gridspec(5, 6)\n",
    "titles = ['Input Image', 'Ground Truth', 'Predicted Image']\n",
    "\n",
    "for i in range(0,4):\n",
    "    data = [imread(f'Dataset/Images/{pred_images[i]}')]\n",
    "    input_img = imread(f'Dataset/Images/{pred_images[i]}')\n",
    "    mask_img = imread(f'Dataset/Masks/{pred_masks[i]}')\n",
    "    test_data = np.asarray([input_img])\n",
    "    output = model_unet.predict(test_data, verbose=0)[0][:,:,0]\n",
    "    final_out = input_img\n",
    "    for xi in range(len(output)):\n",
    "        for yi in range(len(output[xi])):\n",
    "            if output[xi][yi] > 0.1:\n",
    "                final_out[xi][yi] = [255, 255, 0]\n",
    "    data += [mask_img, final_out]\n",
    "    for j in range(0,3):  \n",
    "        f.add_subplot(gs[i, j])\n",
    "        plt.imshow(data[j])\n",
    "        plt.axis('off')\n",
    "        if i == 0:\n",
    "            plt.title(titles[j])\n",
    "plt.show()"
   ]
  },
  {
   "cell_type": "code",
   "execution_count": null,
   "metadata": {
    "id": "C477IL2EYfpM"
   },
   "outputs": [],
   "source": [
    "# Evaluate FCN 32\n",
    "eval_32 = model32.evaluate(test_images, test_masks)\n",
    "f1_score_32 = (2*(eval_32[-2]*eval_32[-1]))/(eval_32[-2]+eval_32[-1])\n",
    "print(f'F1 Score: {f1_score_32}')"
   ]
  },
  {
   "cell_type": "code",
   "execution_count": null,
   "metadata": {
    "id": "uAaBaTQYY5yy"
   },
   "outputs": [],
   "source": [
    "# Evaluate FCN 8\n",
    "eval_8 = model8.evaluate(test_images, test_masks)\n",
    "f1_score_8 = (2*(eval_8[-2]*eval_8[-1]))/(eval_8[-2]+eval_8[-1])\n",
    "print(f'F1 Score: {f1_score_8}')"
   ]
  },
  {
   "cell_type": "code",
   "execution_count": null,
   "metadata": {},
   "outputs": [],
   "source": [
    "# Evaluate U-Net\n",
    "eval_unet = model_unet.evaluate(test_images, test_masks)\n",
    "f1_score_unet = (2*(eval_unet[-2]*eval_unet[-1]))/(eval_unet[-2]+eval_unet[-1])\n",
    "print(f'F1 Score: {f1_score_unet}')"
   ]
  }
 ],
 "metadata": {
  "accelerator": "TPU",
  "kernelspec": {
   "display_name": "Python 3 (ipykernel)",
   "language": "python",
   "name": "python3"
  },
  "language_info": {
   "codemirror_mode": {
    "name": "ipython",
    "version": 3
   },
   "file_extension": ".py",
   "mimetype": "text/x-python",
   "name": "python",
   "nbconvert_exporter": "python",
   "pygments_lexer": "ipython3",
   "version": "3.10.4"
  }
 },
 "nbformat": 4,
 "nbformat_minor": 4
}
