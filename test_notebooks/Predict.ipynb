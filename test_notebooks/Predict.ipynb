{
  "nbformat": 4,
  "nbformat_minor": 0,
  "metadata": {
    "colab": {
      "name": "Predict.ipynb",
      "provenance": [],
      "collapsed_sections": []
    },
    "kernelspec": {
      "name": "python3",
      "display_name": "Python 3"
    },
    "language_info": {
      "name": "python"
    }
  },
  "cells": [
    {
      "cell_type": "code",
      "execution_count": null,
      "metadata": {
        "id": "FQEtkpWTrwFl"
      },
      "outputs": [],
      "source": [
        "!rm -rf Dataset Trained_Model                   # Remove existing directory\n",
        "!pip install -U gdown --pre >/dev/null          # Install gdown to download file from GDrive\n",
        "!gdown 1-4Z9DcqgR2IOqiqd27Lwlc_GYtVPwoq0        # Download FCN32 Model\n",
        "!gdown 10KV85__YEcXbCJQKDKslyB4eMjhU68KA        # Download FCN8 Model\n",
        "!gdown 1u4WJLjYrbZHwdvFOHQXJqDTtco6F5hJ-        # Download dataset from GDrive by file ID\n",
        "!unzip -q Dataset.zip; rm Dataset.zip           # Extract the dataset zip file"
      ]
    },
    {
      "cell_type": "code",
      "source": [
        "from tensorflow.keras.models import load_model\n",
        "from tensorflow.keras import backend as K\n",
        "import os\n",
        "import numpy as np\n",
        "from random import sample\n",
        "from skimage.io import imread\n",
        "from matplotlib import pyplot as plt\n",
        "\n",
        "def iou_coef(y_true, y_pred, smooth=1):\n",
        "    intersection = K.sum(K.abs(y_true * y_pred), axis=[1,2,3])\n",
        "    union = K.sum(y_true,[1,2,3])+K.sum(y_pred,[1,2,3])-intersection\n",
        "    iou = K.mean((intersection + smooth) / (union + smooth), axis=0)\n",
        "    return iou\n",
        "\n",
        "def dice_coef(y_true, y_pred, smooth = 1):\n",
        "    y_true_f = K.flatten(y_true)\n",
        "    y_pred_f = K.flatten(y_pred)\n",
        "    intersection = K.sum(y_true_f * y_pred_f)\n",
        "    return (2. * intersection + smooth) / (K.sum(y_true_f) + K.sum(y_pred_f) + smooth)\n",
        "\n",
        "def soft_dice_loss(y_true, y_pred):\n",
        "    return 1-dice_coef(y_true, y_pred)\n",
        "\n",
        "model32 = load_model(\"FCNN-32.h5\", custom_objects={'soft_dice_loss': soft_dice_loss, 'iou_coef': iou_coef})\n",
        "model8 = load_model(\"Model-FCN-8.h5\", custom_objects={'soft_dice_loss': soft_dice_loss, 'iou_coef': iou_coef})\n",
        "\n",
        "\n",
        "\n",
        "\n",
        "\n",
        "\n",
        "import os\n",
        "import cv2\n",
        "import numpy as np\n",
        "from random import sample\n",
        "from skimage.io import imread\n",
        "from sklearn.model_selection import train_test_split\n",
        "\n",
        "\n",
        "IMAGES_PATH = 'Dataset/Images/'\n",
        "MASKS_PATH  = 'Dataset/Masks/'\n",
        "TEST_PATH   = 'Dataset/Test_Images/'\n",
        "\n",
        "# Number of images to use (Larger the number, more RAM required)\n",
        "N_IMAGES = 500\n",
        "\n",
        "# Imread each image and save to an array\n",
        "\n",
        "sat_imgs = os.listdir(IMAGES_PATH)\n",
        "msk_imgs = os.listdir(MASKS_PATH)\n",
        "sat_imgs.sort(), msk_imgs.sort()\n",
        "\n",
        "images = []\n",
        "for image in sat_imgs[3000:3000+N_IMAGES]:\n",
        "    data = imread(IMAGES_PATH + image)\n",
        "    images.append(data)\n",
        "\n",
        "masks = []\n",
        "for mask in msk_imgs[3000:3000+N_IMAGES]:\n",
        "    data = imread(MASKS_PATH + mask)\n",
        "    data = cv2.cvtColor(data, cv2.COLOR_BGR2GRAY)\n",
        "    data = np.expand_dims(data, axis=-1)\n",
        "    masks.append(data)\n",
        "\n",
        "images = np.stack(images)\n",
        "masks = np.stack(masks) / 255\n",
        "\n",
        "train_images, test_images, train_masks, test_masks = train_test_split(images, masks, test_size=0.3, random_state=2)"
      ],
      "metadata": {
        "id": "E_EUagX-r48g"
      },
      "execution_count": null,
      "outputs": []
    },
    {
      "cell_type": "code",
      "source": [
        "IMAGES_PATH = 'Dataset/Images/'\n",
        "\n",
        "pred_images = sample(os.listdir(IMAGES_PATH), 4)\n",
        "pred_masks  = []\n",
        "for mask_name in pred_images:\n",
        "    mask_name = mask_name.replace('_sat.jpg', '_mask.png')\n",
        "    pred_masks.append(mask_name)"
      ],
      "metadata": {
        "id": "ykzkQ1mHtMtc"
      },
      "execution_count": null,
      "outputs": []
    },
    {
      "cell_type": "code",
      "source": [
        "f = plt.figure(figsize = (15, 12), constrained_layout=True)\n",
        "gs = f.add_gridspec(5, 6)\n",
        "titles = ['Input Image', 'Ground Truth', 'Predicted Image']\n",
        "\n",
        "for i in range(0,4):\n",
        "  data = [imread(f'Dataset/Images/{pred_images[i]}')]\n",
        "  input_img = imread(f'Dataset/Images/{pred_images[i]}')\n",
        "  mask_img = imread(f'Dataset/Masks/{pred_masks[i]}')\n",
        "  test_data = np.asarray([input_img])\n",
        "  output = model8.predict(test_data, verbose=0)[0][:,:,0]\n",
        "  final_out = input_img\n",
        "  for xi in range(len(output)):\n",
        "    for yi in range(len(output[xi])):\n",
        "      if output[xi][yi] > 0.1:\n",
        "        final_out[xi][yi] = [255, 255, 0]\n",
        "  data += [mask_img, final_out]\n",
        "  for j in range(0,3):  \n",
        "    f.add_subplot(gs[i, j])\n",
        "    plt.imshow(data[j])\n",
        "    plt.axis('off')\n",
        "    if i == 0:\n",
        "      plt.title(titles[j])\n",
        "plt.show()"
      ],
      "metadata": {
        "id": "gyALZHb82j0m"
      },
      "execution_count": null,
      "outputs": []
    },
    {
      "cell_type": "code",
      "source": [
        "f = plt.figure(figsize = (15, 12), constrained_layout=True)\n",
        "gs = f.add_gridspec(5, 6)\n",
        "titles = ['Input Image', 'Ground Truth', 'Predicted Image']\n",
        "\n",
        "for i in range(0,4):\n",
        "  data = [imread(f'Dataset/Images/{pred_images[i]}')]\n",
        "  input_img = imread(f'Dataset/Images/{pred_images[i]}')\n",
        "  mask_img = imread(f'Dataset/Masks/{pred_masks[i]}')\n",
        "  test_data = np.asarray([input_img])\n",
        "  output = model32.predict(test_data, verbose=0)[0][:,:,0]\n",
        "  final_out = input_img\n",
        "  for xi in range(len(output)):\n",
        "    for yi in range(len(output[xi])):\n",
        "      if output[xi][yi] > 0.1:\n",
        "        final_out[xi][yi] = [255, 255, 0]\n",
        "  data += [mask_img, final_out]\n",
        "  for j in range(0,3):  \n",
        "    f.add_subplot(gs[i, j])\n",
        "    plt.imshow(data[j])\n",
        "    plt.axis('off')\n",
        "    if i == 0:\n",
        "      plt.title(titles[j])\n",
        "plt.show()"
      ],
      "metadata": {
        "id": "FYCts1hlx9WA"
      },
      "execution_count": null,
      "outputs": []
    },
    {
      "cell_type": "code",
      "source": [
        "model32.evaluate(test_images, test_masks)"
      ],
      "metadata": {
        "id": "C477IL2EYfpM"
      },
      "execution_count": null,
      "outputs": []
    },
    {
      "cell_type": "code",
      "source": [
        "model8.evaluate(test_images, test_masks)"
      ],
      "metadata": {
        "id": "uAaBaTQYY5yy"
      },
      "execution_count": null,
      "outputs": []
    }
  ]
}